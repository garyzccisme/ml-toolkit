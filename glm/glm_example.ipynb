{
 "cells": [
  {
   "cell_type": "code",
   "execution_count": 1,
   "metadata": {},
   "outputs": [],
   "source": [
    "import numpy as np\n",
    "import pandas as pd\n",
    "from sklearn.datasets import load_boston, load_breast_cancer\n",
    "from sklearn.model_selection import train_test_split\n",
    "from sklearn.metrics import mean_squared_error, r2_score\n",
    "\n",
    "from linear_regression import LinearRegression\n",
    "from logistic_regression import LogisticRegression, sigmoid"
   ]
  },
  {
   "cell_type": "markdown",
   "metadata": {},
   "source": [
    "# Linear Regression"
   ]
  },
  {
   "cell_type": "code",
   "execution_count": 29,
   "metadata": {},
   "outputs": [],
   "source": [
    "X, y = load_boston(return_X_y=True)\n",
    "X_train, X_test, y_train, y_test = train_test_split(X, y, test_size=0.2, random_state=66)\n",
    "\n",
    "X_train = (X_train - X_train.mean()) / X_train.std()\n",
    "X_test = (X_test - X_test.mean()) / X_test.std()"
   ]
  },
  {
   "cell_type": "code",
   "execution_count": 3,
   "metadata": {
    "scrolled": true
   },
   "outputs": [],
   "source": [
    "model = LinearRegression(with_intercept=True)\n",
    "model.fit(X_train, y_train)\n",
    "y_predict = model.predict(X_test)"
   ]
  },
  {
   "cell_type": "code",
   "execution_count": 8,
   "metadata": {},
   "outputs": [
    {
     "data": {
      "text/plain": [
       "15.786404126745124"
      ]
     },
     "execution_count": 8,
     "metadata": {},
     "output_type": "execute_result"
    }
   ],
   "source": [
    "mean_squared_error(y_predict, y_test)"
   ]
  },
  {
   "cell_type": "code",
   "execution_count": 9,
   "metadata": {},
   "outputs": [
    {
     "data": {
      "text/plain": [
       "0.743112204822501"
      ]
     },
     "execution_count": 9,
     "metadata": {},
     "output_type": "execute_result"
    }
   ],
   "source": [
    "r2_score(y_predict, y_test)"
   ]
  },
  {
   "cell_type": "markdown",
   "metadata": {},
   "source": [
    "# Logistic Regression"
   ]
  },
  {
   "cell_type": "code",
   "execution_count": 2,
   "metadata": {},
   "outputs": [],
   "source": [
    "X, y = load_breast_cancer(return_X_y=True)\n",
    "X_train, X_test, y_train, y_test = train_test_split(X, y, test_size=0.2, random_state=66)\n",
    "\n",
    "X_train = (X_train - X_train.mean()) / X_train.std()\n",
    "X_test = (X_test - X_test.mean()) / X_test.std()"
   ]
  },
  {
   "cell_type": "code",
   "execution_count": 4,
   "metadata": {},
   "outputs": [
    {
     "name": "stdout",
     "output_type": "stream",
     "text": [
      "===== Epoch 0 ===== Loss 925.9 =====\n",
      "===== Epoch 1 ===== Loss 746.53 =====\n",
      "===== Epoch 2 ===== Loss 713.88 =====\n",
      "===== Epoch 3 ===== Loss 658.19 =====\n",
      "===== Epoch 4 ===== Loss 663.47 =====\n",
      "===== Epoch 5 ===== Loss 633.17 =====\n",
      "===== Epoch 6 ===== Loss 566.58 =====\n",
      "===== Epoch 7 ===== Loss 593.44 =====\n",
      "===== Epoch 8 ===== Loss 455.41 =====\n",
      "===== Epoch 9 ===== Loss 533.6 =====\n",
      "===== Epoch 10 ===== Loss 366.16 =====\n",
      "===== Epoch 11 ===== Loss 451.76 =====\n",
      "===== Epoch 12 ===== Loss 305.63 =====\n",
      "===== Epoch 13 ===== Loss 368.07 =====\n",
      "===== Epoch 14 ===== Loss 261.93 =====\n",
      "===== Epoch 15 ===== Loss 294.43 =====\n",
      "===== Epoch 16 ===== Loss 227.45 =====\n",
      "===== Epoch 17 ===== Loss 237.76 =====\n",
      "===== Epoch 18 ===== Loss 199.52 =====\n",
      "===== Epoch 19 ===== Loss 197.85 =====\n",
      "===== Epoch 20 ===== Loss 178.26 =====\n",
      "===== Epoch 21 ===== Loss 172.89 =====\n",
      "===== Epoch 22 ===== Loss 163.57 =====\n",
      "===== Epoch 23 ===== Loss 158.82 =====\n",
      "===== Epoch 24 ===== Loss 154.14 =====\n",
      "===== Epoch 25 ===== Loss 150.78 =====\n",
      "===== Epoch 26 ===== Loss 147.84 =====\n",
      "===== Epoch 27 ===== Loss 145.3 =====\n",
      "===== Epoch 28 ===== Loss 142.99 =====\n",
      "===== Epoch 29 ===== Loss 140.87 =====\n",
      "===== Epoch 30 ===== Loss 138.88 =====\n",
      "===== Epoch 31 ===== Loss 137.03 =====\n",
      "===== Epoch 32 ===== Loss 135.28 =====\n",
      "===== Epoch 33 ===== Loss 133.64 =====\n",
      "===== Epoch 34 ===== Loss 132.09 =====\n",
      "===== Epoch 35 ===== Loss 130.62 =====\n",
      "===== Epoch 36 ===== Loss 129.23 =====\n",
      "===== Epoch 37 ===== Loss 127.91 =====\n",
      "===== Epoch 38 ===== Loss 126.66 =====\n",
      "===== Epoch 39 ===== Loss 125.47 =====\n",
      "===== Epoch 40 ===== Loss 124.34 =====\n",
      "===== Epoch 41 ===== Loss 123.26 =====\n",
      "===== Epoch 42 ===== Loss 122.23 =====\n",
      "===== Epoch 43 ===== Loss 121.24 =====\n",
      "===== Epoch 44 ===== Loss 120.3 =====\n",
      "===== Epoch 45 ===== Loss 119.4 =====\n",
      "===== Epoch 46 ===== Loss 118.53 =====\n",
      "===== Epoch 47 ===== Loss 117.7 =====\n",
      "===== Epoch 48 ===== Loss 116.91 =====\n",
      "===== Epoch 49 ===== Loss 116.14 =====\n",
      "===== Epoch 50 ===== Loss 115.4 =====\n",
      "===== Epoch 51 ===== Loss 114.69 =====\n",
      "===== Epoch 52 ===== Loss 114.01 =====\n",
      "===== Epoch 53 ===== Loss 113.35 =====\n",
      "===== Epoch 54 ===== Loss 112.72 =====\n",
      "===== Epoch 55 ===== Loss 112.1 =====\n",
      "===== Epoch 56 ===== Loss 111.51 =====\n",
      "===== Epoch 57 ===== Loss 110.94 =====\n",
      "===== Epoch 58 ===== Loss 110.39 =====\n",
      "===== Epoch 59 ===== Loss 109.85 =====\n",
      "===== Epoch 60 ===== Loss 109.33 =====\n",
      "===== Epoch 61 ===== Loss 108.83 =====\n",
      "===== Epoch 62 ===== Loss 108.34 =====\n",
      "===== Epoch 63 ===== Loss 107.87 =====\n",
      "===== Epoch 64 ===== Loss 107.41 =====\n",
      "===== Epoch 65 ===== Loss 106.96 =====\n",
      "===== Epoch 66 ===== Loss 106.53 =====\n",
      "===== Epoch 67 ===== Loss 106.11 =====\n",
      "===== Epoch 68 ===== Loss 105.7 =====\n",
      "===== Epoch 69 ===== Loss 105.31 =====\n",
      "===== Epoch 70 ===== Loss 104.92 =====\n",
      "===== Epoch 71 ===== Loss 104.54 =====\n",
      "===== Epoch 72 ===== Loss 104.18 =====\n",
      "===== Epoch 73 ===== Loss 103.82 =====\n",
      "===== Epoch 74 ===== Loss 103.47 =====\n",
      "===== Epoch 75 ===== Loss 103.13 =====\n",
      "===== Epoch 76 ===== Loss 102.8 =====\n",
      "===== Epoch 77 ===== Loss 102.48 =====\n",
      "===== Epoch 78 ===== Loss 102.16 =====\n",
      "===== Epoch 79 ===== Loss 101.85 =====\n",
      "===== Epoch 80 ===== Loss 101.55 =====\n",
      "===== Epoch 81 ===== Loss 101.26 =====\n",
      "===== Epoch 82 ===== Loss 100.97 =====\n",
      "===== Epoch 83 ===== Loss 100.69 =====\n",
      "===== Epoch 84 ===== Loss 100.42 =====\n",
      "===== Epoch 85 ===== Loss 100.15 =====\n",
      "===== Epoch 86 ===== Loss 99.89 =====\n",
      "===== Epoch 87 ===== Loss 99.63 =====\n",
      "===== Epoch 88 ===== Loss 99.38 =====\n",
      "===== Epoch 89 ===== Loss 99.14 =====\n",
      "===== Epoch 90 ===== Loss 98.9 =====\n",
      "===== Epoch 91 ===== Loss 98.66 =====\n",
      "===== Epoch 92 ===== Loss 98.43 =====\n",
      "===== Epoch 93 ===== Loss 98.21 =====\n",
      "===== Epoch 94 ===== Loss 97.98 =====\n",
      "===== Epoch 95 ===== Loss 97.77 =====\n",
      "===== Epoch 96 ===== Loss 97.55 =====\n",
      "===== Epoch 97 ===== Loss 97.34 =====\n",
      "===== Epoch 98 ===== Loss 97.14 =====\n",
      "===== Epoch 99 ===== Loss 96.94 =====\n"
     ]
    }
   ],
   "source": [
    "model = LogisticRegression(with_intercept=True)\n",
    "model.fit(X_train, y_train, lr=0.001)\n",
    "y_predict = model.predict(X_test)"
   ]
  },
  {
   "cell_type": "code",
   "execution_count": null,
   "metadata": {},
   "outputs": [],
   "source": []
  }
 ],
 "metadata": {
  "kernelspec": {
   "display_name": "Python 3",
   "language": "python",
   "name": "python3"
  },
  "language_info": {
   "codemirror_mode": {
    "name": "ipython",
    "version": 3
   },
   "file_extension": ".py",
   "mimetype": "text/x-python",
   "name": "python",
   "nbconvert_exporter": "python",
   "pygments_lexer": "ipython3",
   "version": "3.8.2"
  }
 },
 "nbformat": 4,
 "nbformat_minor": 4
}
