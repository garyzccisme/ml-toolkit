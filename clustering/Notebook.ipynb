{
 "cells": [
  {
   "cell_type": "code",
   "execution_count": 1,
   "metadata": {},
   "outputs": [],
   "source": [
    "import numpy as np\n",
    "import pandas as pd"
   ]
  },
  {
   "cell_type": "markdown",
   "metadata": {},
   "source": [
    "# Clustering\n",
    "\n",
    "- Algorithm Introduction\n",
    "    - [wiki](https://en.wikipedia.org/wiki/Cluster_analysis)\n",
    "    - [scikit-learn documentation](https://scikit-learn.org/stable/modules/clustering.html)\n",
    "- [Clustering Evaluation and Assessment](https://blog.csdn.net/darkrabbit/article/details/80378597)\n",
    "    - External Evaluation (Compare with ground truth)\n",
    "        - [Rand Index](https://en.wikipedia.org/wiki/Rand_index#Adjusted_Rand_index) (RI) & [Adjust Rand Index](https://en.wikipedia.org/wiki/Rand_index#Adjusted_Rand_index) (ARI)\n",
    "        - [Mutual Information](https://blog.csdn.net/bbbeoy/article/details/72571890) (MI) & [Adjusted Mutual Information](https://en.wikipedia.org/wiki/Adjusted_mutual_information) (AMI)\n",
    "        - Homogeneity, Completeness, V-measure\n",
    "    - Internal Evaluation\n",
    "        - [Silhouette coefficient](https://en.wikipedia.org/wiki/Silhouette_(clustering)) [ˌsɪluˈet]\n",
    "            - a(i)：for point i, the mean distance to others points in the same cluster.\n",
    "            - b(i)：for point i, the min mean distance to points in other clusters.\n",
    "            - s(i) = [b(i) - a(i)] / max{a(i), b(i)}, -1 <= s(i) <= 1"
   ]
  },
  {
   "cell_type": "markdown",
   "metadata": {},
   "source": [
    "# K-Means \n",
    "\n",
    "- [scikit-learn demo](https://scikit-learn.org/stable/auto_examples/cluster/plot_kmeans_digits.html#sphx-glr-auto-examples-cluster-plot-kmeans-digits-py)"
   ]
  },
  {
   "cell_type": "code",
   "execution_count": 46,
   "metadata": {},
   "outputs": [],
   "source": [
    "from sklearn.datasets import load_iris\n",
    "from sklearn.metrics import silhouette_score, adjusted_rand_score, adjusted_mutual_info_score\n",
    "\n",
    "from k_means import KMeans "
   ]
  },
  {
   "cell_type": "code",
   "execution_count": 50,
   "metadata": {},
   "outputs": [],
   "source": [
    "X, y = load_iris(return_X_y=True)"
   ]
  },
  {
   "cell_type": "code",
   "execution_count": 68,
   "metadata": {},
   "outputs": [],
   "source": [
    "k_means = KMeans()\n",
    "k_means.fit(X, k=3, early_stop=10000)"
   ]
  },
  {
   "cell_type": "code",
   "execution_count": 75,
   "metadata": {},
   "outputs": [
    {
     "name": "stdout",
     "output_type": "stream",
     "text": [
      "silhouette_score: 0.5099855375938831\n",
      "adjusted_rand_score: 0.6358670046140765\n",
      "adjusted_mutual_info_score: 0.6726237400611907\n"
     ]
    }
   ],
   "source": [
    "print('silhouette_score:', silhouette_score(X, k_means.labels, metric='euclidean'))\n",
    "print('adjusted_rand_score:', adjusted_rand_score(k_means.labels, y))\n",
    "print('adjusted_mutual_info_score:', adjusted_mutual_info_score(k_means.labels, y))"
   ]
  },
  {
   "cell_type": "code",
   "execution_count": null,
   "metadata": {},
   "outputs": [],
   "source": []
  }
 ],
 "metadata": {
  "kernelspec": {
   "display_name": "Python 3",
   "language": "python",
   "name": "python3"
  },
  "language_info": {
   "codemirror_mode": {
    "name": "ipython",
    "version": 3
   },
   "file_extension": ".py",
   "mimetype": "text/x-python",
   "name": "python",
   "nbconvert_exporter": "python",
   "pygments_lexer": "ipython3",
   "version": "3.8.2"
  }
 },
 "nbformat": 4,
 "nbformat_minor": 4
}
