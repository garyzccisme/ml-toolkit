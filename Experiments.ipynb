{
 "cells": [
  {
   "cell_type": "code",
   "execution_count": 1,
   "metadata": {},
   "outputs": [
    {
     "data": {
      "text/plain": [
       "'E:\\\\jupyter\\\\GitHub\\\\ml-toolkit'"
      ]
     },
     "execution_count": 1,
     "metadata": {},
     "output_type": "execute_result"
    }
   ],
   "source": [
    "pwd"
   ]
  },
  {
   "cell_type": "code",
   "execution_count": 3,
   "metadata": {},
   "outputs": [],
   "source": [
    "import pandas as pd\n",
    "from sklearn.datasets import load_wine, load_iris\n",
    "from sklearn.model_selection import train_test_split"
   ]
  },
  {
   "cell_type": "code",
   "execution_count": 10,
   "metadata": {},
   "outputs": [
    {
     "data": {
      "text/html": [
       "<div>\n",
       "<style scoped>\n",
       "    .dataframe tbody tr th:only-of-type {\n",
       "        vertical-align: middle;\n",
       "    }\n",
       "\n",
       "    .dataframe tbody tr th {\n",
       "        vertical-align: top;\n",
       "    }\n",
       "\n",
       "    .dataframe thead th {\n",
       "        text-align: right;\n",
       "    }\n",
       "</style>\n",
       "<table border=\"1\" class=\"dataframe\">\n",
       "  <thead>\n",
       "    <tr style=\"text-align: right;\">\n",
       "      <th></th>\n",
       "      <th>x0</th>\n",
       "      <th>x1</th>\n",
       "      <th>x2</th>\n",
       "      <th>x3</th>\n",
       "      <th>y</th>\n",
       "    </tr>\n",
       "  </thead>\n",
       "  <tbody>\n",
       "    <tr>\n",
       "      <th>0</th>\n",
       "      <td>5.742</td>\n",
       "      <td>2.943</td>\n",
       "      <td>5.128</td>\n",
       "      <td>2.479</td>\n",
       "      <td>2</td>\n",
       "    </tr>\n",
       "    <tr>\n",
       "      <th>1</th>\n",
       "      <td>6.032</td>\n",
       "      <td>2.270</td>\n",
       "      <td>4.039</td>\n",
       "      <td>0.996</td>\n",
       "      <td>1</td>\n",
       "    </tr>\n",
       "    <tr>\n",
       "      <th>2</th>\n",
       "      <td>5.530</td>\n",
       "      <td>4.157</td>\n",
       "      <td>1.573</td>\n",
       "      <td>0.113</td>\n",
       "      <td>0</td>\n",
       "    </tr>\n",
       "    <tr>\n",
       "      <th>3</th>\n",
       "      <td>7.218</td>\n",
       "      <td>2.790</td>\n",
       "      <td>6.309</td>\n",
       "      <td>1.846</td>\n",
       "      <td>2</td>\n",
       "    </tr>\n",
       "    <tr>\n",
       "      <th>4</th>\n",
       "      <td>5.043</td>\n",
       "      <td>3.607</td>\n",
       "      <td>1.446</td>\n",
       "      <td>0.062</td>\n",
       "      <td>0</td>\n",
       "    </tr>\n",
       "  </tbody>\n",
       "</table>\n",
       "</div>"
      ],
      "text/plain": [
       "      x0     x1     x2     x3  y\n",
       "0  5.742  2.943  5.128  2.479  2\n",
       "1  6.032  2.270  4.039  0.996  1\n",
       "2  5.530  4.157  1.573  0.113  0\n",
       "3  7.218  2.790  6.309  1.846  2\n",
       "4  5.043  3.607  1.446  0.062  0"
      ]
     },
     "execution_count": 10,
     "metadata": {},
     "output_type": "execute_result"
    }
   ],
   "source": [
    "# load data & Split\n",
    "\n",
    "# X, y = load_iris(True)\n",
    "df = pd.read_csv('Data/classification.csv')\n",
    "X = df[['x0', 'x1', 'x2', 'x3']].values\n",
    "y = df['y'].values\n",
    "train_x, test_x, train_y, test_y = train_test_split(X, y, test_size=0.3, random_state=666)\n",
    "df.head()"
   ]
  },
  {
   "cell_type": "markdown",
   "metadata": {},
   "source": [
    "# Classification Tree"
   ]
  },
  {
   "cell_type": "code",
   "execution_count": 2,
   "metadata": {},
   "outputs": [],
   "source": [
    "import numpy as np\n",
    "import pandas as pd\n",
    "\n",
    "# from TreeModel.ClassificationTree import ClassificationTree"
   ]
  },
  {
   "cell_type": "code",
   "execution_count": 46,
   "metadata": {},
   "outputs": [],
   "source": [
    "model = ClassificationTree()"
   ]
  },
  {
   "cell_type": "code",
   "execution_count": 47,
   "metadata": {},
   "outputs": [],
   "source": [
    "model.fit(train_x, train_y)"
   ]
  },
  {
   "cell_type": "code",
   "execution_count": 48,
   "metadata": {},
   "outputs": [],
   "source": [
    "pred_y = model.predict(test_x)"
   ]
  },
  {
   "cell_type": "code",
   "execution_count": 49,
   "metadata": {},
   "outputs": [
    {
     "data": {
      "text/plain": [
       "0.9259259259259259"
      ]
     },
     "execution_count": 49,
     "metadata": {},
     "output_type": "execute_result"
    }
   ],
   "source": [
    "accuracy = len(pred_y[pred_y == test_y]) / len(pred_y)\n",
    "accuracy"
   ]
  },
  {
   "cell_type": "markdown",
   "metadata": {},
   "source": [
    "# K-Means"
   ]
  },
  {
   "cell_type": "code",
   "execution_count": 50,
   "metadata": {},
   "outputs": [],
   "source": [
    "import numpy as np\n",
    "import pandas as pd\n",
    "\n",
    "from Clustering.KMeans import KMeans"
   ]
  },
  {
   "cell_type": "code",
   "execution_count": 51,
   "metadata": {},
   "outputs": [],
   "source": [
    "model = KMeans()"
   ]
  },
  {
   "cell_type": "code",
   "execution_count": 52,
   "metadata": {},
   "outputs": [],
   "source": [
    "model.fit(train_x, 3, float('inf'))"
   ]
  },
  {
   "cell_type": "code",
   "execution_count": 53,
   "metadata": {},
   "outputs": [
    {
     "data": {
      "text/plain": [
       "0.1774193548387097"
      ]
     },
     "execution_count": 53,
     "metadata": {},
     "output_type": "execute_result"
    }
   ],
   "source": [
    "accuracy = len(model.labels[model.labels == train_y]) / len(train_y)\n",
    "accuracy"
   ]
  },
  {
   "cell_type": "markdown",
   "metadata": {},
   "source": [
    "# Neural Network"
   ]
  },
  {
   "cell_type": "code",
   "execution_count": 4,
   "metadata": {
    "scrolled": true
   },
   "outputs": [],
   "source": [
    "import numpy as np\n",
    "import pandas as pd\n",
    "import torch\n",
    "import torch.nn as nn\n",
    "import torch.nn.functional as F\n",
    "\n",
    "from feedforward_neural_network.base import FeedForwardNetwork\n",
    "from feedforward_neural_network.criterion import MultiClassLoss, MultiClassFocalLoss\n",
    "from feedforward_neural_network.net import MultiClassNet"
   ]
  },
  {
   "cell_type": "code",
   "execution_count": 5,
   "metadata": {},
   "outputs": [],
   "source": [
    "network = MultiClassNet(input_channel=train_x.shape[1], output_channel=3)\n",
    "criterion = MultiClassLoss(pre_log=True)\n",
    "optimizer = torch.optim.SGD(network.parameters(), lr=0.1, weight_decay=0.01)"
   ]
  },
  {
   "cell_type": "code",
   "execution_count": 6,
   "metadata": {},
   "outputs": [],
   "source": [
    "model = FeedForwardNetwork(network, criterion, optimizer)"
   ]
  },
  {
   "cell_type": "code",
   "execution_count": 7,
   "metadata": {},
   "outputs": [
    {
     "name": "stdout",
     "output_type": "stream",
     "text": [
      "2020-05-01 12:27:50 INFO base.py:250 - Training loss after 1 epochs: 0.005288635549091158\n",
      "2020-05-01 12:27:50 INFO base.py:279 - Epochs since improvement in validation_loss: 0 \n",
      "\n",
      "2020-05-01 12:27:50 INFO base.py:250 - Training loss after 2 epochs: 0.005223642644428071\n",
      "2020-05-01 12:27:50 INFO base.py:279 - Epochs since improvement in validation_loss: 0 \n",
      "\n",
      "2020-05-01 12:27:50 INFO base.py:250 - Training loss after 3 epochs: 0.005169142144066947\n",
      "2020-05-01 12:27:50 INFO base.py:279 - Epochs since improvement in validation_loss: 0 \n",
      "\n",
      "2020-05-01 12:27:51 INFO base.py:250 - Training loss after 4 epochs: 0.005077579759416126\n",
      "2020-05-01 12:27:51 INFO base.py:279 - Epochs since improvement in validation_loss: 1 \n",
      "\n",
      "2020-05-01 12:27:51 INFO base.py:250 - Training loss after 5 epochs: 0.004984744389851888\n",
      "2020-05-01 12:27:51 INFO base.py:279 - Epochs since improvement in validation_loss: 0 \n",
      "\n",
      "2020-05-01 12:27:51 INFO base.py:250 - Training loss after 6 epochs: 0.004961591675167992\n",
      "2020-05-01 12:27:51 INFO base.py:279 - Epochs since improvement in validation_loss: 1 \n",
      "\n",
      "2020-05-01 12:27:51 INFO base.py:250 - Training loss after 7 epochs: 0.004879761309850784\n",
      "2020-05-01 12:27:51 INFO base.py:279 - Epochs since improvement in validation_loss: 0 \n",
      "\n",
      "2020-05-01 12:27:51 INFO base.py:250 - Training loss after 8 epochs: 0.00483758392788115\n",
      "2020-05-01 12:27:51 INFO base.py:279 - Epochs since improvement in validation_loss: 0 \n",
      "\n",
      "2020-05-01 12:27:51 INFO base.py:250 - Training loss after 9 epochs: 0.004718729569798424\n",
      "2020-05-01 12:27:51 INFO base.py:279 - Epochs since improvement in validation_loss: 0 \n",
      "\n",
      "2020-05-01 12:27:51 INFO base.py:250 - Training loss after 10 epochs: 0.004713012207122076\n",
      "2020-05-01 12:27:51 INFO base.py:279 - Epochs since improvement in validation_loss: 0 \n",
      "\n",
      "2020-05-01 12:27:51 INFO base.py:250 - Training loss after 11 epochs: 0.004657119370642162\n",
      "2020-05-01 12:27:51 INFO base.py:279 - Epochs since improvement in validation_loss: 1 \n",
      "\n",
      "2020-05-01 12:27:51 INFO base.py:250 - Training loss after 12 epochs: 0.0046081428016935076\n",
      "2020-05-01 12:27:51 INFO base.py:279 - Epochs since improvement in validation_loss: 0 \n",
      "\n",
      "2020-05-01 12:27:51 INFO base.py:250 - Training loss after 13 epochs: 0.00453830517473675\n",
      "2020-05-01 12:27:51 INFO base.py:279 - Epochs since improvement in validation_loss: 0 \n",
      "\n",
      "2020-05-01 12:27:51 INFO base.py:250 - Training loss after 14 epochs: 0.004438009574299767\n",
      "2020-05-01 12:27:51 INFO base.py:279 - Epochs since improvement in validation_loss: 0 \n",
      "\n",
      "2020-05-01 12:27:51 INFO base.py:250 - Training loss after 15 epochs: 0.00448252090385982\n",
      "2020-05-01 12:27:51 INFO base.py:279 - Epochs since improvement in validation_loss: 0 \n",
      "\n",
      "2020-05-01 12:27:51 INFO base.py:250 - Training loss after 16 epochs: 0.004372828347342355\n",
      "2020-05-01 12:27:51 INFO base.py:279 - Epochs since improvement in validation_loss: 1 \n",
      "\n",
      "2020-05-01 12:27:51 INFO base.py:250 - Training loss after 17 epochs: 0.004277734955151876\n",
      "2020-05-01 12:27:51 INFO base.py:279 - Epochs since improvement in validation_loss: 0 \n",
      "\n",
      "2020-05-01 12:27:51 INFO base.py:250 - Training loss after 18 epochs: 0.004173566046215239\n",
      "2020-05-01 12:27:51 INFO base.py:279 - Epochs since improvement in validation_loss: 0 \n",
      "\n",
      "2020-05-01 12:27:51 INFO base.py:250 - Training loss after 19 epochs: 0.0041447286094938\n",
      "2020-05-01 12:27:51 INFO base.py:279 - Epochs since improvement in validation_loss: 0 \n",
      "\n",
      "2020-05-01 12:27:51 INFO base.py:250 - Training loss after 20 epochs: 0.004169633416902452\n",
      "2020-05-01 12:27:51 INFO base.py:279 - Epochs since improvement in validation_loss: 0 \n",
      "\n",
      "2020-05-01 12:27:51 INFO base.py:250 - Training loss after 21 epochs: 0.004105230598222642\n",
      "2020-05-01 12:27:51 INFO base.py:279 - Epochs since improvement in validation_loss: 1 \n",
      "\n",
      "2020-05-01 12:27:51 INFO base.py:250 - Training loss after 22 epochs: 0.004087730390684945\n",
      "2020-05-01 12:27:51 INFO base.py:279 - Epochs since improvement in validation_loss: 0 \n",
      "\n",
      "2020-05-01 12:27:51 INFO base.py:250 - Training loss after 23 epochs: 0.0040294088068462556\n",
      "2020-05-01 12:27:51 INFO base.py:279 - Epochs since improvement in validation_loss: 1 \n",
      "\n",
      "2020-05-01 12:27:51 INFO base.py:250 - Training loss after 24 epochs: 0.00395027342296782\n",
      "2020-05-01 12:27:51 INFO base.py:279 - Epochs since improvement in validation_loss: 0 \n",
      "\n",
      "2020-05-01 12:27:51 INFO base.py:250 - Training loss after 25 epochs: 0.003883607614608038\n",
      "2020-05-01 12:27:51 INFO base.py:279 - Epochs since improvement in validation_loss: 0 \n",
      "\n",
      "2020-05-01 12:27:51 INFO base.py:250 - Training loss after 26 epochs: 0.003828801853316171\n",
      "2020-05-01 12:27:51 INFO base.py:279 - Epochs since improvement in validation_loss: 1 \n",
      "\n",
      "2020-05-01 12:27:51 INFO base.py:250 - Training loss after 27 epochs: 0.003775626988638015\n",
      "2020-05-01 12:27:51 INFO base.py:279 - Epochs since improvement in validation_loss: 2 \n",
      "\n",
      "2020-05-01 12:27:51 INFO base.py:250 - Training loss after 28 epochs: 0.003773462630453564\n",
      "2020-05-01 12:27:52 INFO base.py:279 - Epochs since improvement in validation_loss: 0 \n",
      "\n",
      "2020-05-01 12:27:52 INFO base.py:250 - Training loss after 29 epochs: 0.003680033768926348\n",
      "2020-05-01 12:27:52 INFO base.py:279 - Epochs since improvement in validation_loss: 1 \n",
      "\n",
      "2020-05-01 12:27:52 INFO base.py:250 - Training loss after 30 epochs: 0.003746567453656878\n",
      "2020-05-01 12:27:52 INFO base.py:279 - Epochs since improvement in validation_loss: 2 \n",
      "\n",
      "2020-05-01 12:27:52 INFO base.py:250 - Training loss after 31 epochs: 0.0036330719788869223\n",
      "2020-05-01 12:27:52 INFO base.py:279 - Epochs since improvement in validation_loss: 0 \n",
      "\n",
      "2020-05-01 12:27:52 INFO base.py:250 - Training loss after 32 epochs: 0.003701593620436532\n",
      "2020-05-01 12:27:52 INFO base.py:279 - Epochs since improvement in validation_loss: 0 \n",
      "\n",
      "2020-05-01 12:27:52 INFO base.py:250 - Training loss after 33 epochs: 0.0035777175710314797\n",
      "2020-05-01 12:27:52 INFO base.py:279 - Epochs since improvement in validation_loss: 1 \n",
      "\n",
      "2020-05-01 12:27:52 INFO base.py:250 - Training loss after 34 epochs: 0.003526874099458967\n",
      "2020-05-01 12:27:52 INFO base.py:279 - Epochs since improvement in validation_loss: 2 \n",
      "\n",
      "2020-05-01 12:27:52 INFO base.py:250 - Training loss after 35 epochs: 0.003609379842167809\n",
      "2020-05-01 12:27:52 INFO base.py:279 - Epochs since improvement in validation_loss: 0 \n",
      "\n",
      "2020-05-01 12:27:52 INFO base.py:250 - Training loss after 36 epochs: 0.0035953388327643987\n",
      "2020-05-01 12:27:52 INFO base.py:279 - Epochs since improvement in validation_loss: 0 \n",
      "\n",
      "2020-05-01 12:27:52 INFO base.py:250 - Training loss after 37 epochs: 0.0034809606415884837\n",
      "2020-05-01 12:27:52 INFO base.py:279 - Epochs since improvement in validation_loss: 1 \n",
      "\n",
      "2020-05-01 12:27:52 INFO base.py:250 - Training loss after 38 epochs: 0.0034906358945937382\n",
      "2020-05-01 12:27:52 INFO base.py:279 - Epochs since improvement in validation_loss: 2 \n",
      "\n",
      "2020-05-01 12:27:52 INFO base.py:250 - Training loss after 39 epochs: 0.0033929379213423956\n",
      "2020-05-01 12:27:52 INFO base.py:279 - Epochs since improvement in validation_loss: 3 \n",
      "\n",
      "2020-05-01 12:27:52 INFO base.py:250 - Training loss after 40 epochs: 0.0034405675672349477\n",
      "2020-05-01 12:27:52 INFO base.py:279 - Epochs since improvement in validation_loss: 4 \n",
      "\n",
      "2020-05-01 12:27:52 INFO base.py:250 - Training loss after 41 epochs: 0.003379722578184945\n",
      "2020-05-01 12:27:52 INFO base.py:279 - Epochs since improvement in validation_loss: 5 \n",
      "\n",
      "2020-05-01 12:27:52 INFO base.py:250 - Training loss after 42 epochs: 0.003421998733565921\n",
      "2020-05-01 12:27:52 INFO base.py:279 - Epochs since improvement in validation_loss: 6 \n",
      "\n",
      "2020-05-01 12:27:52 INFO base.py:250 - Training loss after 43 epochs: 0.003433469363621303\n",
      "2020-05-01 12:27:52 INFO base.py:279 - Epochs since improvement in validation_loss: 7 \n",
      "\n",
      "2020-05-01 12:27:52 INFO base.py:250 - Training loss after 44 epochs: 0.0034493125620342437\n",
      "2020-05-01 12:27:52 INFO base.py:279 - Epochs since improvement in validation_loss: 0 \n",
      "\n",
      "2020-05-01 12:27:52 INFO base.py:250 - Training loss after 45 epochs: 0.0034778475761413573\n",
      "2020-05-01 12:27:52 INFO base.py:279 - Epochs since improvement in validation_loss: 1 \n",
      "\n",
      "2020-05-01 12:27:52 INFO base.py:250 - Training loss after 46 epochs: 0.0033852941933132353\n",
      "2020-05-01 12:27:52 INFO base.py:279 - Epochs since improvement in validation_loss: 2 \n",
      "\n"
     ]
    },
    {
     "name": "stdout",
     "output_type": "stream",
     "text": [
      "2020-05-01 12:27:52 INFO base.py:250 - Training loss after 47 epochs: 0.0032492504233405705\n",
      "2020-05-01 12:27:52 INFO base.py:279 - Epochs since improvement in validation_loss: 0 \n",
      "\n",
      "2020-05-01 12:27:52 INFO base.py:250 - Training loss after 48 epochs: 0.003251902971948896\n",
      "2020-05-01 12:27:52 INFO base.py:279 - Epochs since improvement in validation_loss: 0 \n",
      "\n",
      "2020-05-01 12:27:52 INFO base.py:250 - Training loss after 49 epochs: 0.0033519207012085686\n",
      "2020-05-01 12:27:52 INFO base.py:279 - Epochs since improvement in validation_loss: 1 \n",
      "\n",
      "2020-05-01 12:27:52 INFO base.py:250 - Training loss after 50 epochs: 0.0032298229989551363\n",
      "2020-05-01 12:27:52 INFO base.py:279 - Epochs since improvement in validation_loss: 2 \n",
      "\n",
      "2020-05-01 12:27:52 INFO base.py:250 - Training loss after 51 epochs: 0.003318480792499724\n",
      "2020-05-01 12:27:52 INFO base.py:279 - Epochs since improvement in validation_loss: 3 \n",
      "\n",
      "2020-05-01 12:27:53 INFO base.py:250 - Training loss after 52 epochs: 0.003274756669998169\n",
      "2020-05-01 12:27:53 INFO base.py:279 - Epochs since improvement in validation_loss: 4 \n",
      "\n",
      "2020-05-01 12:27:53 INFO base.py:250 - Training loss after 53 epochs: 0.0032857301689329602\n",
      "2020-05-01 12:27:53 INFO base.py:279 - Epochs since improvement in validation_loss: 5 \n",
      "\n",
      "2020-05-01 12:27:53 INFO base.py:250 - Training loss after 54 epochs: 0.003265725289072309\n",
      "2020-05-01 12:27:53 INFO base.py:279 - Epochs since improvement in validation_loss: 6 \n",
      "\n",
      "2020-05-01 12:27:53 INFO base.py:250 - Training loss after 55 epochs: 0.0032662140471594672\n",
      "2020-05-01 12:27:53 INFO base.py:279 - Epochs since improvement in validation_loss: 7 \n",
      "\n",
      "2020-05-01 12:27:53 INFO base.py:250 - Training loss after 56 epochs: 0.0032541899454025993\n",
      "2020-05-01 12:27:53 INFO base.py:279 - Epochs since improvement in validation_loss: 8 \n",
      "\n",
      "2020-05-01 12:27:53 INFO base.py:250 - Training loss after 57 epochs: 0.0031401412827628\n",
      "2020-05-01 12:27:53 INFO base.py:279 - Epochs since improvement in validation_loss: 9 \n",
      "\n",
      "2020-05-01 12:27:53 INFO base.py:250 - Training loss after 58 epochs: 0.0031712952114286877\n",
      "2020-05-01 12:27:53 INFO base.py:279 - Epochs since improvement in validation_loss: 0 \n",
      "\n",
      "2020-05-01 12:27:53 INFO base.py:250 - Training loss after 59 epochs: 0.0031627239215941657\n",
      "2020-05-01 12:27:53 INFO base.py:279 - Epochs since improvement in validation_loss: 1 \n",
      "\n",
      "2020-05-01 12:27:53 INFO base.py:250 - Training loss after 60 epochs: 0.0032548551048551286\n",
      "2020-05-01 12:27:53 INFO base.py:279 - Epochs since improvement in validation_loss: 2 \n",
      "\n",
      "2020-05-01 12:27:53 INFO base.py:250 - Training loss after 61 epochs: 0.003176169168381464\n",
      "2020-05-01 12:27:53 INFO base.py:279 - Epochs since improvement in validation_loss: 3 \n",
      "\n",
      "2020-05-01 12:27:53 INFO base.py:250 - Training loss after 62 epochs: 0.0030603229999542235\n",
      "2020-05-01 12:27:53 INFO base.py:279 - Epochs since improvement in validation_loss: 4 \n",
      "\n",
      "2020-05-01 12:27:53 INFO base.py:250 - Training loss after 63 epochs: 0.003238436153956822\n",
      "2020-05-01 12:27:53 INFO base.py:279 - Epochs since improvement in validation_loss: 5 \n",
      "\n",
      "2020-05-01 12:27:53 INFO base.py:250 - Training loss after 64 epochs: 0.003066662663505191\n",
      "2020-05-01 12:27:53 INFO base.py:279 - Epochs since improvement in validation_loss: 6 \n",
      "\n",
      "2020-05-01 12:27:53 INFO base.py:250 - Training loss after 65 epochs: 0.0032161647365206766\n",
      "2020-05-01 12:27:53 INFO base.py:279 - Epochs since improvement in validation_loss: 7 \n",
      "\n",
      "2020-05-01 12:27:53 INFO base.py:250 - Training loss after 66 epochs: 0.0031773379870823452\n",
      "2020-05-01 12:27:53 INFO base.py:279 - Epochs since improvement in validation_loss: 8 \n",
      "\n",
      "2020-05-01 12:27:53 INFO base.py:250 - Training loss after 67 epochs: 0.0032045682271321613\n",
      "2020-05-01 12:27:53 INFO base.py:279 - Epochs since improvement in validation_loss: 9 \n",
      "\n",
      "2020-05-01 12:27:53 INFO base.py:250 - Training loss after 68 epochs: 0.003137364699727013\n",
      "2020-05-01 12:27:53 INFO base.py:279 - Epochs since improvement in validation_loss: 10 \n",
      "\n",
      "2020-05-01 12:27:53 INFO base.py:282 - Training complete after 68 epochs \n",
      "\n",
      "2020-05-01 12:27:53 INFO base.py:283 - Best training loss achieved: 0.003137364699727013 \n",
      "\n",
      "2020-05-01 12:27:53 INFO base.py:284 - Best validation loss achieved: 0.0061739711534409296\n"
     ]
    }
   ],
   "source": [
    "model.fit(train_x, train_y)"
   ]
  },
  {
   "cell_type": "code",
   "execution_count": 8,
   "metadata": {},
   "outputs": [],
   "source": [
    "pred_prob = np.exp(model.predict(test_x))\n",
    "pred_y = np.argmax(pred_prob, 1)"
   ]
  },
  {
   "cell_type": "code",
   "execution_count": 9,
   "metadata": {},
   "outputs": [
    {
     "data": {
      "text/plain": [
       "0.7288888888888889"
      ]
     },
     "execution_count": 9,
     "metadata": {},
     "output_type": "execute_result"
    }
   ],
   "source": [
    "accuracy = len(pred_y[pred_y == test_y]) / len(pred_y)\n",
    "accuracy"
   ]
  },
  {
   "cell_type": "markdown",
   "metadata": {},
   "source": [
    "# Focal Loss Experiment"
   ]
  },
  {
   "cell_type": "code",
   "execution_count": 10,
   "metadata": {},
   "outputs": [],
   "source": [
    "model.network.load_state_dict(model.network_initial_state_dict)\n",
    "model.optimizer.load_state_dict(model.optimizer_initial_state_dict)\n",
    "model.scheduler.load_state_dict(model.scheduler_initial_state_dict)\n",
    "\n",
    "model.criterion = MultiClassFocalLoss(gamma=2, pre_log=True)"
   ]
  },
  {
   "cell_type": "code",
   "execution_count": 11,
   "metadata": {},
   "outputs": [
    {
     "name": "stdout",
     "output_type": "stream",
     "text": [
      "2020-05-01 12:28:06 INFO base.py:250 - Training loss after 1 epochs: 0.0008584071128141312\n",
      "2020-05-01 12:28:06 INFO base.py:279 - Epochs since improvement in validation_loss: 1 \n",
      "\n",
      "2020-05-01 12:28:06 INFO base.py:250 - Training loss after 2 epochs: 0.0009393793486413501\n",
      "2020-05-01 12:28:06 INFO base.py:279 - Epochs since improvement in validation_loss: 2 \n",
      "\n",
      "2020-05-01 12:28:06 INFO base.py:250 - Training loss after 3 epochs: 0.0008571378531910124\n",
      "2020-05-01 12:28:06 INFO base.py:279 - Epochs since improvement in validation_loss: 3 \n",
      "\n",
      "2020-05-01 12:28:06 INFO base.py:250 - Training loss after 4 epochs: 0.000932284551007407\n",
      "2020-05-01 12:28:06 INFO base.py:279 - Epochs since improvement in validation_loss: 0 \n",
      "\n",
      "2020-05-01 12:28:06 INFO base.py:250 - Training loss after 5 epochs: 0.000888698867389134\n",
      "2020-05-01 12:28:06 INFO base.py:279 - Epochs since improvement in validation_loss: 1 \n",
      "\n",
      "2020-05-01 12:28:06 INFO base.py:250 - Training loss after 6 epochs: 0.0009250612485976447\n",
      "2020-05-01 12:28:06 INFO base.py:279 - Epochs since improvement in validation_loss: 2 \n",
      "\n",
      "2020-05-01 12:28:06 INFO base.py:250 - Training loss after 7 epochs: 0.000850096203031994\n",
      "2020-05-01 12:28:06 INFO base.py:279 - Epochs since improvement in validation_loss: 3 \n",
      "\n",
      "2020-05-01 12:28:06 INFO base.py:250 - Training loss after 8 epochs: 0.0008703875754560743\n",
      "2020-05-01 12:28:06 INFO base.py:279 - Epochs since improvement in validation_loss: 4 \n",
      "\n",
      "2020-05-01 12:28:06 INFO base.py:250 - Training loss after 9 epochs: 0.0008753870924313863\n",
      "2020-05-01 12:28:06 INFO base.py:279 - Epochs since improvement in validation_loss: 5 \n",
      "\n",
      "2020-05-01 12:28:06 INFO base.py:250 - Training loss after 10 epochs: 0.0009515165927864256\n",
      "2020-05-01 12:28:06 INFO base.py:279 - Epochs since improvement in validation_loss: 6 \n",
      "\n",
      "2020-05-01 12:28:06 INFO base.py:250 - Training loss after 11 epochs: 0.0008606614811079843\n",
      "2020-05-01 12:28:06 INFO base.py:279 - Epochs since improvement in validation_loss: 7 \n",
      "\n",
      "2020-05-01 12:28:06 INFO base.py:250 - Training loss after 12 epochs: 0.0008127948712734949\n",
      "2020-05-01 12:28:06 INFO base.py:279 - Epochs since improvement in validation_loss: 8 \n",
      "\n",
      "2020-05-01 12:28:06 INFO base.py:250 - Training loss after 13 epochs: 0.0008849806728817168\n",
      "2020-05-01 12:28:06 INFO base.py:279 - Epochs since improvement in validation_loss: 0 \n",
      "\n",
      "2020-05-01 12:28:06 INFO base.py:250 - Training loss after 14 epochs: 0.0008346193248317355\n",
      "2020-05-01 12:28:06 INFO base.py:279 - Epochs since improvement in validation_loss: 1 \n",
      "\n",
      "2020-05-01 12:28:06 INFO base.py:250 - Training loss after 15 epochs: 0.0008865690302281153\n",
      "2020-05-01 12:28:06 INFO base.py:279 - Epochs since improvement in validation_loss: 2 \n",
      "\n",
      "2020-05-01 12:28:06 INFO base.py:250 - Training loss after 16 epochs: 0.0008568417103517623\n",
      "2020-05-01 12:28:06 INFO base.py:279 - Epochs since improvement in validation_loss: 3 \n",
      "\n",
      "2020-05-01 12:28:06 INFO base.py:250 - Training loss after 17 epochs: 0.0008643033249037607\n",
      "2020-05-01 12:28:06 INFO base.py:279 - Epochs since improvement in validation_loss: 4 \n",
      "\n",
      "2020-05-01 12:28:06 INFO base.py:250 - Training loss after 18 epochs: 0.0008820838871456328\n",
      "2020-05-01 12:28:06 INFO base.py:279 - Epochs since improvement in validation_loss: 5 \n",
      "\n",
      "2020-05-01 12:28:06 INFO base.py:250 - Training loss after 19 epochs: 0.0008519709819839115\n",
      "2020-05-01 12:28:06 INFO base.py:279 - Epochs since improvement in validation_loss: 6 \n",
      "\n",
      "2020-05-01 12:28:07 INFO base.py:250 - Training loss after 20 epochs: 0.000809353483574731\n",
      "2020-05-01 12:28:07 INFO base.py:279 - Epochs since improvement in validation_loss: 0 \n",
      "\n",
      "2020-05-01 12:28:07 INFO base.py:250 - Training loss after 21 epochs: 0.0008101550241311392\n",
      "2020-05-01 12:28:07 INFO base.py:279 - Epochs since improvement in validation_loss: 1 \n",
      "\n",
      "2020-05-01 12:28:07 INFO base.py:250 - Training loss after 22 epochs: 0.0008072926884605771\n",
      "2020-05-01 12:28:07 INFO base.py:279 - Epochs since improvement in validation_loss: 2 \n",
      "\n",
      "2020-05-01 12:28:07 INFO base.py:250 - Training loss after 23 epochs: 0.0008626964475427355\n",
      "2020-05-01 12:28:07 INFO base.py:279 - Epochs since improvement in validation_loss: 3 \n",
      "\n",
      "2020-05-01 12:28:07 INFO base.py:250 - Training loss after 24 epochs: 0.0008313002330916268\n",
      "2020-05-01 12:28:07 INFO base.py:279 - Epochs since improvement in validation_loss: 4 \n",
      "\n",
      "2020-05-01 12:28:07 INFO base.py:250 - Training loss after 25 epochs: 0.0008628199497858684\n",
      "2020-05-01 12:28:07 INFO base.py:279 - Epochs since improvement in validation_loss: 5 \n",
      "\n",
      "2020-05-01 12:28:07 INFO base.py:250 - Training loss after 26 epochs: 0.0008787497168495542\n",
      "2020-05-01 12:28:07 INFO base.py:279 - Epochs since improvement in validation_loss: 0 \n",
      "\n",
      "2020-05-01 12:28:07 INFO base.py:250 - Training loss after 27 epochs: 0.0008447336653868358\n",
      "2020-05-01 12:28:07 INFO base.py:279 - Epochs since improvement in validation_loss: 1 \n",
      "\n",
      "2020-05-01 12:28:07 INFO base.py:250 - Training loss after 28 epochs: 0.0008290625753856841\n",
      "2020-05-01 12:28:07 INFO base.py:279 - Epochs since improvement in validation_loss: 2 \n",
      "\n",
      "2020-05-01 12:28:07 INFO base.py:250 - Training loss after 29 epochs: 0.0008997060358524323\n",
      "2020-05-01 12:28:07 INFO base.py:279 - Epochs since improvement in validation_loss: 3 \n",
      "\n",
      "2020-05-01 12:28:07 INFO base.py:250 - Training loss after 30 epochs: 0.0008239729773430597\n",
      "2020-05-01 12:28:07 INFO base.py:279 - Epochs since improvement in validation_loss: 4 \n",
      "\n",
      "2020-05-01 12:28:07 INFO base.py:250 - Training loss after 31 epochs: 0.0007691269474370139\n",
      "2020-05-01 12:28:07 INFO base.py:279 - Epochs since improvement in validation_loss: 5 \n",
      "\n",
      "2020-05-01 12:28:07 INFO base.py:250 - Training loss after 32 epochs: 0.0007658951339267549\n",
      "2020-05-01 12:28:07 INFO base.py:279 - Epochs since improvement in validation_loss: 6 \n",
      "\n",
      "2020-05-01 12:28:07 INFO base.py:250 - Training loss after 33 epochs: 0.0007967781452905564\n",
      "2020-05-01 12:28:07 INFO base.py:279 - Epochs since improvement in validation_loss: 7 \n",
      "\n",
      "2020-05-01 12:28:07 INFO base.py:250 - Training loss after 34 epochs: 0.0008507199230648223\n",
      "2020-05-01 12:28:07 INFO base.py:279 - Epochs since improvement in validation_loss: 8 \n",
      "\n",
      "2020-05-01 12:28:07 INFO base.py:250 - Training loss after 35 epochs: 0.0008913831696623848\n",
      "2020-05-01 12:28:07 INFO base.py:279 - Epochs since improvement in validation_loss: 9 \n",
      "\n",
      "2020-05-01 12:28:07 INFO base.py:250 - Training loss after 36 epochs: 0.0007845802676110041\n",
      "2020-05-01 12:28:07 INFO base.py:279 - Epochs since improvement in validation_loss: 10 \n",
      "\n",
      "2020-05-01 12:28:07 INFO base.py:282 - Training complete after 36 epochs \n",
      "\n",
      "2020-05-01 12:28:07 INFO base.py:283 - Best training loss achieved: 0.0007845802676110041 \n",
      "\n",
      "2020-05-01 12:28:07 INFO base.py:284 - Best validation loss achieved: 0.0016628462643850418\n"
     ]
    }
   ],
   "source": [
    "model.fit(train_x, train_y)"
   ]
  },
  {
   "cell_type": "code",
   "execution_count": 12,
   "metadata": {},
   "outputs": [],
   "source": [
    "pred_prob = np.exp(model.predict(test_x))\n",
    "pred_y = np.argmax(pred_prob, 1)"
   ]
  },
  {
   "cell_type": "code",
   "execution_count": 13,
   "metadata": {},
   "outputs": [
    {
     "data": {
      "text/plain": [
       "0.88"
      ]
     },
     "execution_count": 13,
     "metadata": {},
     "output_type": "execute_result"
    }
   ],
   "source": [
    "accuracy = len(pred_y[pred_y == test_y]) / len(pred_y)\n",
    "accuracy"
   ]
  },
  {
   "cell_type": "code",
   "execution_count": null,
   "metadata": {},
   "outputs": [],
   "source": []
  },
  {
   "cell_type": "code",
   "execution_count": null,
   "metadata": {},
   "outputs": [],
   "source": []
  }
 ],
 "metadata": {
  "kernelspec": {
   "display_name": "Python 3",
   "language": "python",
   "name": "python3"
  },
  "language_info": {
   "codemirror_mode": {
    "name": "ipython",
    "version": 3
   },
   "file_extension": ".py",
   "mimetype": "text/x-python",
   "name": "python",
   "nbconvert_exporter": "python",
   "pygments_lexer": "ipython3",
   "version": "3.8.2"
  }
 },
 "nbformat": 4,
 "nbformat_minor": 4
}
